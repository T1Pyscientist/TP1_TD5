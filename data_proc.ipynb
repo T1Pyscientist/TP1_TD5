{
 "cells": [
  {
   "cell_type": "code",
   "execution_count": 1,
   "metadata": {},
   "outputs": [],
   "source": [
    "import pandas as pd\n",
    "import matplotlib.pyplot as plt"
   ]
  },
  {
   "attachments": {},
   "cell_type": "markdown",
   "metadata": {},
   "source": [
    "Analizar y comparar\n",
    "- Tiempo de ejecucion de cada uno\n",
    "- Gap: greedy vs batching y batching vs batching ratio y greedy vs ratio\n",
    "- ratios de cada uno\n",
    "- valor objetivo "
   ]
  },
  {
   "cell_type": "code",
   "execution_count": 2,
   "metadata": {},
   "outputs": [],
   "source": [
    "df = pd.read_csv('results.csv')"
   ]
  },
  {
   "cell_type": "code",
   "execution_count": 3,
   "metadata": {},
   "outputs": [
    {
     "data": {
      "text/html": [
       "<div>\n",
       "<style scoped>\n",
       "    .dataframe tbody tr th:only-of-type {\n",
       "        vertical-align: middle;\n",
       "    }\n",
       "\n",
       "    .dataframe tbody tr th {\n",
       "        vertical-align: top;\n",
       "    }\n",
       "\n",
       "    .dataframe thead th {\n",
       "        text-align: right;\n",
       "    }\n",
       "</style>\n",
       "<table border=\"1\" class=\"dataframe\">\n",
       "  <thead>\n",
       "    <tr style=\"text-align: right;\">\n",
       "      <th></th>\n",
       "      <th>size</th>\n",
       "      <th>n</th>\n",
       "      <th>timeG</th>\n",
       "      <th>timeB</th>\n",
       "      <th>ObjValG</th>\n",
       "      <th>ObjValB</th>\n",
       "      <th>ObjValBR</th>\n",
       "      <th>PrecioKmG</th>\n",
       "      <th>PrecioKmB</th>\n",
       "      <th>PrecioKmBRatio</th>\n",
       "      <th>gap</th>\n",
       "      <th>gapR</th>\n",
       "    </tr>\n",
       "  </thead>\n",
       "  <tbody>\n",
       "    <tr>\n",
       "      <th>0</th>\n",
       "      <td>xl</td>\n",
       "      <td>500</td>\n",
       "      <td>1562</td>\n",
       "      <td>86439</td>\n",
       "      <td>1655.3</td>\n",
       "      <td>1371.2</td>\n",
       "      <td>1454.3</td>\n",
       "      <td>3.02480</td>\n",
       "      <td>2.83826</td>\n",
       "      <td>3.81290</td>\n",
       "      <td>0.207191</td>\n",
       "      <td>0.060604</td>\n",
       "    </tr>\n",
       "    <tr>\n",
       "      <th>1</th>\n",
       "      <td>xl</td>\n",
       "      <td>500</td>\n",
       "      <td>1636</td>\n",
       "      <td>75501</td>\n",
       "      <td>1605.1</td>\n",
       "      <td>1412.8</td>\n",
       "      <td>1489.0</td>\n",
       "      <td>3.73220</td>\n",
       "      <td>2.89086</td>\n",
       "      <td>5.25118</td>\n",
       "      <td>0.136113</td>\n",
       "      <td>0.053935</td>\n",
       "    </tr>\n",
       "    <tr>\n",
       "      <th>2</th>\n",
       "      <td>xl</td>\n",
       "      <td>500</td>\n",
       "      <td>1602</td>\n",
       "      <td>72476</td>\n",
       "      <td>1486.9</td>\n",
       "      <td>1270.6</td>\n",
       "      <td>1349.0</td>\n",
       "      <td>3.62779</td>\n",
       "      <td>3.03410</td>\n",
       "      <td>5.02640</td>\n",
       "      <td>0.170235</td>\n",
       "      <td>0.061703</td>\n",
       "    </tr>\n",
       "    <tr>\n",
       "      <th>3</th>\n",
       "      <td>xl</td>\n",
       "      <td>500</td>\n",
       "      <td>1556</td>\n",
       "      <td>75590</td>\n",
       "      <td>1390.2</td>\n",
       "      <td>1174.4</td>\n",
       "      <td>1256.7</td>\n",
       "      <td>4.04412</td>\n",
       "      <td>3.14362</td>\n",
       "      <td>4.85615</td>\n",
       "      <td>0.183753</td>\n",
       "      <td>0.070078</td>\n",
       "    </tr>\n",
       "    <tr>\n",
       "      <th>4</th>\n",
       "      <td>xl</td>\n",
       "      <td>500</td>\n",
       "      <td>1574</td>\n",
       "      <td>67693</td>\n",
       "      <td>1467.0</td>\n",
       "      <td>1291.7</td>\n",
       "      <td>1360.8</td>\n",
       "      <td>3.48375</td>\n",
       "      <td>3.00871</td>\n",
       "      <td>4.51199</td>\n",
       "      <td>0.135713</td>\n",
       "      <td>0.053495</td>\n",
       "    </tr>\n",
       "  </tbody>\n",
       "</table>\n",
       "</div>"
      ],
      "text/plain": [
       "  size    n  timeG  timeB  ObjValG  ObjValB  ObjValBR  PrecioKmG  PrecioKmB   \n",
       "0   xl  500   1562  86439   1655.3   1371.2    1454.3    3.02480    2.83826  \\\n",
       "1   xl  500   1636  75501   1605.1   1412.8    1489.0    3.73220    2.89086   \n",
       "2   xl  500   1602  72476   1486.9   1270.6    1349.0    3.62779    3.03410   \n",
       "3   xl  500   1556  75590   1390.2   1174.4    1256.7    4.04412    3.14362   \n",
       "4   xl  500   1574  67693   1467.0   1291.7    1360.8    3.48375    3.00871   \n",
       "\n",
       "   PrecioKmBRatio       gap      gapR  \n",
       "0         3.81290  0.207191  0.060604  \n",
       "1         5.25118  0.136113  0.053935  \n",
       "2         5.02640  0.170235  0.061703  \n",
       "3         4.85615  0.183753  0.070078  \n",
       "4         4.51199  0.135713  0.053495  "
      ]
     },
     "execution_count": 3,
     "metadata": {},
     "output_type": "execute_result"
    }
   ],
   "source": [
    "df['gap'] = (df['ObjValG'] - df['ObjValB']) / df['ObjValB']\n",
    "df['gapR'] = (df['ObjValBR'] - df['ObjValB']) / df['ObjValB']\n",
    "\n",
    "df.head()"
   ]
  },
  {
   "cell_type": "code",
   "execution_count": 4,
   "metadata": {},
   "outputs": [
    {
     "data": {
      "image/png": "[encoded data removed]",
      "text/plain": [
       "<Figure size 432x288 with 1 Axes>"
      ]
     },
     "metadata": {
      "needs_background": "light"
     },
     "output_type": "display_data"
    }
   ],
   "source": [
    "fig, ax = plt.subplots()\n",
    "\n",
    "ax.scatter(df['n'], df['PrecioKmG'], label='Greedy')\n",
    "ax.scatter(df['n'], df['PrecioKmB'], label='Batching')\n",
    "ax.scatter(df['n'], df['PrecioKmBRatio'], label='Batching2')\n",
    "ax.legend()\n",
    "\n",
    "ax.set_ylabel(\"ratio\")\n",
    "ax.set_xlabel('n')\n",
    "plt.show()"
   ]
  },
  {
   "cell_type": "code",
   "execution_count": 5,
   "metadata": {},
   "outputs": [
    {
     "data": {
      "image/png": "[encoded data removed]",
      "text/plain": [
       "<Figure size 720x288 with 2 Axes>"
      ]
     },
     "metadata": {
      "needs_background": "light"
     },
     "output_type": "display_data"
    }
   ],
   "source": [
    "fig, (ax, ax2)= plt.subplots(1, 2)\n",
    "fig.set_figwidth(10)\n",
    "\n",
    "ax.scatter(df['n'], df['gap'])\n",
    "promedios = []\n",
    "sizes = [10, 100, 250, 500]\n",
    "for i in range(4):\n",
    "    promedios.append(sum(df[df['n'] == sizes[i]]['gap'])/10)\n",
    "ax.scatter(sizes, promedios)\n",
    "ax.set_ylabel(\"gap\")\n",
    "ax.set_xlabel('n')\n",
    "\n",
    "ax2.scatter(df['n'], df['gapR'])\n",
    "promedios = []\n",
    "sizes = [10, 100, 250, 500]\n",
    "for i in range(4):\n",
    "    promedios.append(sum(df[df['n'] == sizes[i]]['gapR'])/10)\n",
    "ax2.scatter(sizes, promedios)\n",
    "ax2.set_ylabel(\"gapR\")\n",
    "ax2.set_xlabel('n')\n",
    "\n",
    "\n",
    "\n",
    "plt.show()"
   ]
  },
  {
   "cell_type": "code",
   "execution_count": 6,
   "metadata": {},
   "outputs": [
    {
     "data": {
      "text/plain": [
       "<matplotlib.collections.PathCollection at 0x1463ad1c0>"
      ]
     },
     "execution_count": 6,
     "metadata": {},
     "output_type": "execute_result"
    },
    {
     "data": {
      "image/png": "[encoded data removed]",
      "text/plain": [
       "<Figure size 432x288 with 1 Axes>"
      ]
     },
     "metadata": {
      "needs_background": "light"
     },
     "output_type": "display_data"
    }
   ],
   "source": [
    "df['dif_time'] = (df['timeB'] - df['timeG'])\n",
    "plt.scatter(df['n'], df['dif_time'])"
   ]
  },
  {
   "cell_type": "code",
   "execution_count": 7,
   "metadata": {},
   "outputs": [
    {
     "data": {
      "image/png": "[encoded data removed]",
      "text/plain": [
       "<Figure size 432x288 with 1 Axes>"
      ]
     },
     "metadata": {
      "needs_background": "light"
     },
     "output_type": "display_data"
    }
   ],
   "source": [
    "fig1, ax1 = plt.subplots()\n",
    "\n",
    "timeb = ax1.plot(df['n'], df['timeB']/1000, label='Batching')\n",
    "timeg = ax1.plot(df['n'], df['timeG']/1000, label='Greedy')\n",
    "ax1.legend()\n",
    "ax1.set_ylabel('microseconds')\n",
    "ax1.set_xlabel('n')\n",
    "\n",
    "plt.show()"
   ]
  },
  {
   "cell_type": "code",
   "execution_count": 8,
   "metadata": {},
   "outputs": [
    {
     "data": {
      "image/png": "[encoded data removed]",
      "text/plain": [
       "<Figure size 432x288 with 1 Axes>"
      ]
     },
     "metadata": {
      "needs_background": "light"
     },
     "output_type": "display_data"
    }
   ],
   "source": [
    "fig1, ax2 = plt.subplots()\n",
    "\n",
    "promediosG = []\n",
    "sizes = [10, 100, 250, 500]\n",
    "for i in range(4):\n",
    "    promediosG.append(sum(df[df['n'] == sizes[i]]['ObjValG'])/10)\n",
    "\n",
    "promediosB = []\n",
    "for i in range(4):\n",
    "    promediosB.append(sum(df[df['n'] == sizes[i]]['ObjValB'])/10)\n",
    "\n",
    "promediosBR = []\n",
    "for i in range(4):\n",
    "    promediosBR.append(sum(df[df['n'] == sizes[i]]['ObjValBR'])/10)\n",
    "\n",
    "\n",
    "ax2.scatter(sizes, promediosG, label=\"Greedy\")\n",
    "ax2.scatter(sizes, promediosB, label=\"Batching\")\n",
    "ax2.scatter(sizes, promediosBR, label=\"Batching Ratio\")\n",
    "ax2.legend()\n",
    "\n",
    "plt.show()"
   ]
  },
  {
   "cell_type": "code",
   "execution_count": null,
   "metadata": {},
   "outputs": [],
   "source": []
  }
 ],
 "metadata": {
  "kernelspec": {
   "display_name": "metodos",
   "language": "python",
   "name": "python3"
  },
  "language_info": {
   "codemirror_mode": {
    "name": "ipython",
    "version": 3
   },
   "file_extension": ".py",
   "mimetype": "text/x-python",
   "name": "python",
   "nbconvert_exporter": "python",
   "pygments_lexer": "ipython3",
   "version": "3.9.13"
  },
  "orig_nbformat": 4
 },
 "nbformat": 4,
 "nbformat_minor": 2
}
